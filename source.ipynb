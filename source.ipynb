{
 "cells": [
  {
   "cell_type": "markdown",
   "metadata": {},
   "source": [
    "# Anomaly Detection  \n",
    "**NAME:** MD RAZEENUDDIN MEHDI (CSE)\n",
    "**COLLEGE** RAM KRISHNA MAHATO GOVERNMENT ENGINEERING COLLEGE\n"
   ]
  },
  {
   "cell_type": "markdown",
   "metadata": {},
   "source": [
    "## Generating a Dummy Set  \n",
    "\n",
    "First we will generate a dummy data set which consists of two coloumns:  \n",
    "\n",
    "- Name of the employee  \n",
    "- Salary (in Rs)\n",
    "\n",
    "We will use python package **Faker** to generate names and **numpy** to generate the salaries"
   ]
  },
  {
   "cell_type": "code",
   "execution_count": 7,
   "metadata": {},
   "outputs": [
    {
     "name": "stdout",
     "output_type": "stream",
     "text": [
      "Collecting package metadata (current_repodata.json): done\n",
      "Solving environment: done\n",
      "\n",
      "## Package Plan ##\n",
      "\n",
      "  environment location: /home/jupyterlab/conda/envs/python\n",
      "\n",
      "  added / updated specs:\n",
      "    - faker\n",
      "\n",
      "\n",
      "The following packages will be downloaded:\n",
      "\n",
      "    package                    |            build\n",
      "    ---------------------------|-----------------\n",
      "    faker-4.1.1                |             py_0         803 KB  conda-forge\n",
      "    text-unidecode-1.3         |             py_0          68 KB  conda-forge\n",
      "    ------------------------------------------------------------\n",
      "                                           Total:         871 KB\n",
      "\n",
      "The following NEW packages will be INSTALLED:\n",
      "\n",
      "  faker              conda-forge/noarch::faker-4.1.1-py_0\n",
      "  text-unidecode     conda-forge/noarch::text-unidecode-1.3-py_0\n",
      "\n",
      "\n",
      "\n",
      "Downloading and Extracting Packages\n",
      "faker-4.1.1          | 803 KB    | ##################################### | 100% \n",
      "text-unidecode-1.3   | 68 KB     | ##################################### | 100% \n",
      "Preparing transaction: done\n",
      "Verifying transaction: done\n",
      "Executing transaction: done\n",
      "\n",
      "Note: you may need to restart the kernel to use updated packages.\n"
     ]
    }
   ],
   "source": [
    "conda install -c conda-forge faker "
   ]
  },
  {
   "cell_type": "markdown",
   "metadata": {},
   "source": [
    "## Completed Installing faker package"
   ]
  },
  {
   "cell_type": "code",
   "execution_count": null,
   "metadata": {},
   "outputs": [],
   "source": [
    "#Importing the packages\n",
    "import pandas as pd\n",
    "import numpy as np\n",
    "import matplotlib.pyplot as plt\n",
    "\n",
    "# To show the plots in Jupyter Notebook\n",
    "%matplotlib inline\n",
    "# Using a predefined style set\n",
    "plt.style.use('ggplot"
   ]
  },
  {
   "cell_type": "code",
   "execution_count": 29,
   "metadata": {},
   "outputs": [
    {
     "data": {
      "text/plain": [
       "200"
      ]
     },
     "execution_count": 29,
     "metadata": {},
     "output_type": "execute_result"
    }
   ],
   "source": [
    "#Importing Faker package\n",
    "from faker import Faker\n",
    "\n",
    "#To generate names of Indian employees\n",
    "fake = Faker('en_IN')\n",
    "\n",
    "# To ensure the results are reproducible\n",
    "Faker.seed()\n",
    "\n",
    "#List to which the dummy names will get appended to\n",
    "name_list = []\n",
    "\n",
    "fake = Faker('en_IN')\n",
    "\n",
    "# Generating 200 employee names \n",
    "for itr in range(200):\n",
    "  name_list.append(fake.name())\n",
    "\n",
    "# Verify if 200 names were generated\n",
    "len(name_list)"
   ]
  },
  {
   "cell_type": "code",
   "execution_count": 30,
   "metadata": {},
   "outputs": [
    {
     "data": {
      "text/plain": [
       "200"
      ]
     },
     "execution_count": 30,
     "metadata": {},
     "output_type": "execute_result"
    }
   ],
   "source": [
    "#for reproducible results\n",
    "\n",
    "np.random.seed(7)\n",
    "salaries = []\n",
    "\n",
    "#Generating the random salaries and appending it to the list salaries\n",
    "for itr in range(200):\n",
    "    salary = np.random.randint(30000,80000)\n",
    "    salaries.append(salary)\n",
    "\n",
    "# Checking if 200 salaries were generated \n",
    "len(salaries)"
   ]
  },
  {
   "cell_type": "code",
   "execution_count": 83,
   "metadata": {},
   "outputs": [
    {
     "data": {
      "text/html": [
       "<div>\n",
       "<style scoped>\n",
       "    .dataframe tbody tr th:only-of-type {\n",
       "        vertical-align: middle;\n",
       "    }\n",
       "\n",
       "    .dataframe tbody tr th {\n",
       "        vertical-align: top;\n",
       "    }\n",
       "\n",
       "    .dataframe thead th {\n",
       "        text-align: right;\n",
       "    }\n",
       "</style>\n",
       "<table border=\"1\" class=\"dataframe\">\n",
       "  <thead>\n",
       "    <tr style=\"text-align: right;\">\n",
       "      <th></th>\n",
       "      <th>Person</th>\n",
       "      <th>Salary (in Rs)</th>\n",
       "    </tr>\n",
       "  </thead>\n",
       "  <tbody>\n",
       "    <tr>\n",
       "      <th>0</th>\n",
       "      <td>पुष्कर, यश</td>\n",
       "      <td>79689</td>\n",
       "    </tr>\n",
       "    <tr>\n",
       "      <th>1</th>\n",
       "      <td>कृष्णन, विद्या</td>\n",
       "      <td>40742</td>\n",
       "    </tr>\n",
       "    <tr>\n",
       "      <th>2</th>\n",
       "      <td>मोहिनी महाजन</td>\n",
       "      <td>68467</td>\n",
       "    </tr>\n",
       "    <tr>\n",
       "      <th>3</th>\n",
       "      <td>मोहिनी भारत</td>\n",
       "      <td>30919</td>\n",
       "    </tr>\n",
       "    <tr>\n",
       "      <th>4</th>\n",
       "      <td>अदिती दोषी</td>\n",
       "      <td>43927</td>\n",
       "    </tr>\n",
       "  </tbody>\n",
       "</table>\n",
       "</div>"
      ],
      "text/plain": [
       "           Person  Salary (in Rs)\n",
       "0      पुष्कर, यश           79689\n",
       "1  कृष्णन, विद्या           40742\n",
       "2    मोहिनी महाजन           68467\n",
       "3     मोहिनी भारत           30919\n",
       "4      अदिती दोषी           43927"
      ]
     },
     "execution_count": 83,
     "metadata": {},
     "output_type": "execute_result"
    }
   ],
   "source": [
    "# Creating a pandas DataFrame\n",
    "salary_df = pd.DataFrame(\n",
    "    {'Person': name_list,\n",
    "     'Salary (in Rs)': salaries\n",
    "    })\n",
    "\n",
    "# Printing a section of the DataFrame\n",
    "salary_df.head()"
   ]
  },
  {
   "cell_type": "markdown",
   "metadata": {},
   "source": [
    "## Manually Changing the data  \n",
    "\n",
    "Now we will change salaries of 5 entries to create anomaly. In actuality it may occur due to some **software bugs** while recording the data.\n",
    "\n"
   ]
  },
  {
   "cell_type": "code",
   "execution_count": 84,
   "metadata": {},
   "outputs": [],
   "source": [
    "salary_df.at[10, 'Salary (in Rs)'] = 2\n",
    "salary_df.at[35, 'Salary (in Rs)'] = 5000\n",
    "salary_df.at[115, 'Salary (in Rs)'] = 10000\n",
    "salary_df.at[135, 'Salary (in Rs)'] = 90000\n",
    "salary_df.at[185, 'Salary (in Rs)'] = 85000"
   ]
  },
  {
   "cell_type": "markdown",
   "metadata": {},
   "source": [
    "## Outlier Detection  \n",
    "Outlier is a piece of data that deviates significantly from the other data points and the process of detecting this outliers is outlier detection. We have already manipulated our data to create some ouliers\n",
    "\n",
    "## Novelty Detection\n",
    "\n",
    "A novel data is a new data that we added to the data sets that deviates from the other data points. Novelty detection is a statistical method used to determine new or unknown data and determining if these new data are inlier or outlier.\n",
    "\n",
    "**Now we will add 2 new data points to the pre-existing data set**"
   ]
  },
  {
   "cell_type": "code",
   "execution_count": 85,
   "metadata": {},
   "outputs": [
    {
     "data": {
      "text/html": [
       "<div>\n",
       "<style scoped>\n",
       "    .dataframe tbody tr th:only-of-type {\n",
       "        vertical-align: middle;\n",
       "    }\n",
       "\n",
       "    .dataframe tbody tr th {\n",
       "        vertical-align: top;\n",
       "    }\n",
       "\n",
       "    .dataframe thead th {\n",
       "        text-align: right;\n",
       "    }\n",
       "</style>\n",
       "<table border=\"1\" class=\"dataframe\">\n",
       "  <thead>\n",
       "    <tr style=\"text-align: right;\">\n",
       "      <th></th>\n",
       "      <th>Person</th>\n",
       "      <th>Salary (in Rs)</th>\n",
       "    </tr>\n",
       "  </thead>\n",
       "  <tbody>\n",
       "    <tr>\n",
       "      <th>0</th>\n",
       "      <td>आद्या लोकनाट्यों</td>\n",
       "      <td>13000</td>\n",
       "    </tr>\n",
       "    <tr>\n",
       "      <th>1</th>\n",
       "      <td>रजनी शिरोळे</td>\n",
       "      <td>195000</td>\n",
       "    </tr>\n",
       "  </tbody>\n",
       "</table>\n",
       "</div>"
      ],
      "text/plain": [
       "             Person  Salary (in Rs)\n",
       "0  आद्या लोकनाट्यों           13000\n",
       "1       रजनी शिरोळे          195000"
      ]
     },
     "execution_count": 85,
     "metadata": {},
     "output_type": "execute_result"
    }
   ],
   "source": [
    "name2_list = []\n",
    "\n",
    "#Generating 2 names\n",
    "for itr in range(2):\n",
    "    name2_list.append(fake.name())\n",
    "\n",
    "salary_list = [13000, 195000]\n",
    "\n",
    "#Creating the new data frame\n",
    "\n",
    "new_df = pd.DataFrame(\n",
    "    {'Person': name2_list,\n",
    "     'Salary (in Rs)': salary_list\n",
    "    })\n",
    "new_df"
   ]
  },
  {
   "cell_type": "code",
   "execution_count": 86,
   "metadata": {},
   "outputs": [
    {
     "data": {
      "text/html": [
       "<div>\n",
       "<style scoped>\n",
       "    .dataframe tbody tr th:only-of-type {\n",
       "        vertical-align: middle;\n",
       "    }\n",
       "\n",
       "    .dataframe tbody tr th {\n",
       "        vertical-align: top;\n",
       "    }\n",
       "\n",
       "    .dataframe thead th {\n",
       "        text-align: right;\n",
       "    }\n",
       "</style>\n",
       "<table border=\"1\" class=\"dataframe\">\n",
       "  <thead>\n",
       "    <tr style=\"text-align: right;\">\n",
       "      <th></th>\n",
       "      <th>Person</th>\n",
       "      <th>Salary (in Rs)</th>\n",
       "    </tr>\n",
       "  </thead>\n",
       "  <tbody>\n",
       "    <tr>\n",
       "      <th>0</th>\n",
       "      <td>पुष्कर, यश</td>\n",
       "      <td>79689</td>\n",
       "    </tr>\n",
       "    <tr>\n",
       "      <th>1</th>\n",
       "      <td>कृष्णन, विद्या</td>\n",
       "      <td>40742</td>\n",
       "    </tr>\n",
       "    <tr>\n",
       "      <th>2</th>\n",
       "      <td>मोहिनी महाजन</td>\n",
       "      <td>68467</td>\n",
       "    </tr>\n",
       "    <tr>\n",
       "      <th>3</th>\n",
       "      <td>मोहिनी भारत</td>\n",
       "      <td>30919</td>\n",
       "    </tr>\n",
       "    <tr>\n",
       "      <th>4</th>\n",
       "      <td>अदिती दोषी</td>\n",
       "      <td>43927</td>\n",
       "    </tr>\n",
       "    <tr>\n",
       "      <th>...</th>\n",
       "      <td>...</td>\n",
       "      <td>...</td>\n",
       "    </tr>\n",
       "    <tr>\n",
       "      <th>197</th>\n",
       "      <td>अनाया लाल</td>\n",
       "      <td>69167</td>\n",
       "    </tr>\n",
       "    <tr>\n",
       "      <th>198</th>\n",
       "      <td>महादेव, रचना</td>\n",
       "      <td>74370</td>\n",
       "    </tr>\n",
       "    <tr>\n",
       "      <th>199</th>\n",
       "      <td>अमायरा काले</td>\n",
       "      <td>65392</td>\n",
       "    </tr>\n",
       "    <tr>\n",
       "      <th>200</th>\n",
       "      <td>आद्या लोकनाट्यों</td>\n",
       "      <td>13000</td>\n",
       "    </tr>\n",
       "    <tr>\n",
       "      <th>201</th>\n",
       "      <td>रजनी शिरोळे</td>\n",
       "      <td>195000</td>\n",
       "    </tr>\n",
       "  </tbody>\n",
       "</table>\n",
       "<p>202 rows × 2 columns</p>\n",
       "</div>"
      ],
      "text/plain": [
       "               Person  Salary (in Rs)\n",
       "0          पुष्कर, यश           79689\n",
       "1      कृष्णन, विद्या           40742\n",
       "2        मोहिनी महाजन           68467\n",
       "3         मोहिनी भारत           30919\n",
       "4          अदिती दोषी           43927\n",
       "..                ...             ...\n",
       "197         अनाया लाल           69167\n",
       "198      महादेव, रचना           74370\n",
       "199       अमायरा काले           65392\n",
       "200  आद्या लोकनाट्यों           13000\n",
       "201       रजनी शिरोळे          195000\n",
       "\n",
       "[202 rows x 2 columns]"
      ]
     },
     "execution_count": 86,
     "metadata": {},
     "output_type": "execute_result"
    }
   ],
   "source": [
    "#Appending it to the main data frame \n",
    "#Mainting Continuous indexing\n",
    "\n",
    "\n",
    "salary_df = salary_df.append(new_df, ignore_index = True) \n",
    "salary_df"
   ]
  },
  {
   "cell_type": "markdown",
   "metadata": {},
   "source": [
    "## Clustering approach for anomaly detection  \n",
    "We are going to use K-means clustering to cluster the data which further uses Euclidean distance internally"
   ]
  },
  {
   "cell_type": "code",
   "execution_count": 87,
   "metadata": {},
   "outputs": [],
   "source": [
    "# Converting the salary values to a numpy array\n",
    "salary_raw = salary_df['Salary (in Rs)'].values\n",
    "\n",
    "#for compatibilty with scipy\n",
    "salary_raw = salary_raw.astype('float64')"
   ]
  },
  {
   "cell_type": "code",
   "execution_count": 88,
   "metadata": {},
   "outputs": [],
   "source": [
    "#importing the kmeans module\n",
    "from scipy import cluster\n",
    "from scipy.cluster.vq import kmeans\n",
    "\n",
    "# Supplying the data and the number of clusters to kmeans()\n",
    "codebook, distortion = kmeans(salary_raw, 4)\n",
    "# we fed the salary and also the number of clusters to which we want to group the data points"
   ]
  },
  {
   "cell_type": "markdown",
   "metadata": {},
   "source": [
    "## Assigning the groups of the data points"
   ]
  },
  {
   "cell_type": "code",
   "execution_count": 89,
   "metadata": {},
   "outputs": [],
   "source": [
    "# We call the vq() method it takes data points and centroids are generated by kmeans clustering algorithm\n",
    "\n",
    "groups, cdist = cluster.vq.vq(salary_raw, codebook)"
   ]
  },
  {
   "cell_type": "code",
   "execution_count": 90,
   "metadata": {},
   "outputs": [
    {
     "data": {
      "image/png": "[encoded data removed]",
      "text/plain": [
       "<Figure size 432x288 with 1 Axes>"
      ]
     },
     "metadata": {},
     "output_type": "display_data"
    }
   ],
   "source": [
    "#Plotting \n",
    "\n",
    "plt.scatter(salary_raw, np.arange(0,202), c=groups)\n",
    "plt.xlabel('Salaries in (Rs)')\n",
    "plt.ylabel('Indices')\n",
    "plt.show()"
   ]
  },
  {
   "cell_type": "markdown",
   "metadata": {},
   "source": [
    "Just by visualising the plotting we can clearly point out to the anomalies"
   ]
  },
  {
   "cell_type": "code",
   "execution_count": 91,
   "metadata": {},
   "outputs": [
    {
     "data": {
      "image/png": "[encoded data removed]",
      "text/plain": [
       "<Figure size 432x288 with 1 Axes>"
      ]
     },
     "metadata": {},
     "output_type": "display_data"
    }
   ],
   "source": [
    "#Plotting a histogram\n",
    "\n",
    "ax = salary_df['Salary (in Rs)'].plot(kind='hist')\n",
    "ax.set_xlabel('Salary (in Rs)')\n",
    "plt.show()"
   ]
  },
  {
   "cell_type": "code",
   "execution_count": null,
   "metadata": {},
   "outputs": [],
   "source": []
  }
 ],
 "metadata": {
  "kernelspec": {
   "display_name": "Python",
   "language": "python",
   "name": "conda-env-python-py"
  },
  "language_info": {
   "codemirror_mode": {
    "name": "ipython",
    "version": 3
   },
   "file_extension": ".py",
   "mimetype": "text/x-python",
   "name": "python",
   "nbconvert_exporter": "python",
   "pygments_lexer": "ipython3",
   "version": "3.6.10"
  }
 },
 "nbformat": 4,
 "nbformat_minor": 4
}
